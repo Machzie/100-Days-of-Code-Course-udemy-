{
 "cells": [
  {
   "cell_type": "markdown",
   "id": "3bd57201",
   "metadata": {},
   "source": [
    "# Day 5 Project: Password Generator"
   ]
  },
  {
   "cell_type": "code",
   "execution_count": 2,
   "id": "9fce58f3",
   "metadata": {},
   "outputs": [],
   "source": [
    "#Password Generator Project\n",
    "import random\n",
    "letters = ['a', 'b', 'c', 'd', 'e', 'f', 'g', 'h', 'i', 'j', 'k', 'l', 'm', 'n', 'o', 'p', 'q', 'r', 's', 't', 'u', 'v', 'w', 'x', 'y', 'z', 'A', 'B', 'C', 'D', 'E', 'F', 'G', 'H', 'I', 'J', 'K', 'L', 'M', 'N', 'O', 'P', 'Q', 'R', 'S', 'T', 'U', 'V', 'W', 'X', 'Y', 'Z']\n",
    "numbers = ['0', '1', '2', '3', '4', '5', '6', '7', '8', '9']\n",
    "symbols = ['!', '#', '$', '%', '&', '(', ')', '*', '+']"
   ]
  },
  {
   "cell_type": "code",
   "execution_count": null,
   "id": "53cb0d5e",
   "metadata": {},
   "outputs": [],
   "source": [
    "#Eazy Level - Order not randomised:\n",
    "#e.g. 4 letter, 2 symbol, 2 number = JduE&!91\n",
    "\n",
    "print(\"Welcome to the PyPassword Generator!\")\n",
    "nr_letters= int(input(\"How many letters would you like in your password?\\n\")) \n",
    "nr_symbols = int(input(f\"How many symbols would you like?\\n\"))\n",
    "nr_numbers = int(input(f\"How many numbers would you like?\\n\"))\n",
    "\n",
    "password = \"\"\n",
    "\n",
    "pass_letters = []\n",
    "for letter in range(0, nr_letters):\n",
    "    pass_letters.insert(letter, letters[random.randint(0,len(letters)-1)])\n",
    "print(pass_letters)\n",
    "\n",
    "pass_symbols = []\n",
    "for symbol in range(0, nr_symbols):\n",
    "    pass_symbols.insert(symbol, symbols[random.randint(0,len(symbols)-1)])\n",
    "print(pass_symbols)\n",
    "\n",
    "pass_numbers = []\n",
    "for number in range(0, nr_numbers):\n",
    "    pass_numbers.insert(number, numbers[random.randint(0,len(numbers)-1)])\n",
    "print(pass_numbers)\n",
    "\n",
    "pass_chars = pass_letters\n",
    "pass_letters.extend(pass_symbols)\n",
    "pass_chars.extend(pass_numbers)\n",
    "\n",
    "print(password.join(str(i) for i in pass_chars))\n"
   ]
  },
  {
   "cell_type": "code",
   "execution_count": null,
   "id": "9ceff942",
   "metadata": {},
   "outputs": [],
   "source": [
    "#Eazy Level [COURSE SOLUTION]- Order not randomised:\n",
    "#e.g. 4 letter, 2 symbol, 2 number = JduE&!91\n",
    "\n",
    "print(\"Welcome to the PyPassword Generator!\")\n",
    "nr_letters= int(input(\"How many letters would you like in your password?\\n\")) \n",
    "nr_symbols = int(input(f\"How many symbols would you like?\\n\"))\n",
    "nr_numbers = int(input(f\"How many numbers would you like?\\n\"))\n",
    "\n",
    "password = \"\"\n",
    "\n",
    "for letter in range(0, nr_letters):\n",
    "    password += random.choice(letters)\n",
    "\n",
    "for symbol in range(0, nr_symbols):\n",
    "    password += random.choice(symbols)\n",
    "\n",
    "for number in range(0, nr_numbers):\n",
    "    password += random.choice(numbers)\n",
    "\n",
    "print(password)"
   ]
  },
  {
   "cell_type": "code",
   "execution_count": null,
   "id": "884f9759",
   "metadata": {},
   "outputs": [],
   "source": [
    "#Hard Level - Order of characters randomised:\n",
    "#e.g. 4 letter, 2 symbol, 2 number = g^2jk8&P\n",
    "\n",
    "print(\"Welcome to the PyPassword Generator!\")\n",
    "nr_letters= int(input(\"How many letters would you like in your password?\\n\")) \n",
    "nr_symbols = int(input(f\"How many symbols would you like?\\n\"))\n",
    "nr_numbers = int(input(f\"How many numbers would you like?\\n\"))\n",
    "\n",
    "password = \"\"\n",
    "\n",
    "pass_letters = []\n",
    "for letter in range(0, nr_letters):\n",
    "    pass_letters.insert(letter, letters[random.randint(0,len(letters)-1)])\n",
    "\n",
    "pass_symbols = []\n",
    "for symbol in range(0, nr_symbols):\n",
    "    pass_symbols.insert(symbol, symbols[random.randint(0,len(symbols)-1)])\n",
    "\n",
    "pass_numbers = []\n",
    "for number in range(0, nr_numbers):\n",
    "    pass_numbers.insert(number, numbers[random.randint(0,len(numbers)-1)])\n",
    "\n",
    "pass_chars = pass_letters\n",
    "pass_letters.extend(pass_symbols)\n",
    "pass_chars.extend(pass_numbers)\n",
    "\n",
    "random.shuffle(pass_chars)\n",
    "\n",
    "print(password.join(str(i) for i in pass_chars))\n"
   ]
  },
  {
   "cell_type": "code",
   "execution_count": null,
   "id": "161b34bb",
   "metadata": {},
   "outputs": [],
   "source": [
    "#Hard Level [COURSE SOLUTION] - Order of characters randomised:\n",
    "#e.g. 4 letter, 2 symbol, 2 number = g^2jk8&P\n",
    "\n",
    "print(\"Welcome to the PyPassword Generator!\")\n",
    "nr_letters= int(input(\"How many letters would you like in your password?\\n\")) \n",
    "nr_symbols = int(input(f\"How many symbols would you like?\\n\"))\n",
    "nr_numbers = int(input(f\"How many numbers would you like?\\n\"))\n",
    "\n",
    "password_list = []\n",
    "\n",
    "# Both += and .append() work for single character strings\n",
    "for letter in range(0, nr_letters):\n",
    "    password_list += random.choice(letters)\n",
    "\n",
    "for symbol in range(0, nr_symbols):\n",
    "    password_list.append(random.choice(symbols))\n",
    "\n",
    "for number in range(0, nr_numbers):\n",
    "    password_list.append(random.choice(numbers))\n",
    "\n",
    "random.shuffle(password_list)\n",
    "\n",
    "password = \"\"\n",
    "for i in range(0, len(password_list)):\n",
    "    password += password_list[i]\n",
    "\n",
    "print(password)"
   ]
  },
  {
   "cell_type": "markdown",
   "id": "26e76a54",
   "metadata": {},
   "source": [
    "## Lessons Learned\n",
    "\n",
    "To convert list items into a string:\n",
    "+ can use `.join()` to take all items in an iterable and join them into a string.\n",
    "+ can `+=` and a for loop to add each character individually\n",
    "\n",
    "Remember can use `random.choice()` to pick from a list!\n",
    "\n",
    "Can use `random.shuffle()` to randomly sort the items within a list.\n"
   ]
  },
  {
   "cell_type": "code",
   "execution_count": null,
   "id": "2adbb7fd",
   "metadata": {},
   "outputs": [],
   "source": []
  }
 ],
 "metadata": {
  "kernelspec": {
   "display_name": "Python 3 (ipykernel)",
   "language": "python",
   "name": "python3"
  },
  "language_info": {
   "codemirror_mode": {
    "name": "ipython",
    "version": 3
   },
   "file_extension": ".py",
   "mimetype": "text/x-python",
   "name": "python",
   "nbconvert_exporter": "python",
   "pygments_lexer": "ipython3",
   "version": "3.9.7"
  }
 },
 "nbformat": 4,
 "nbformat_minor": 5
}
