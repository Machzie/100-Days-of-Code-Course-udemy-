{
 "cells": [
  {
   "cell_type": "markdown",
   "id": "6846948d",
   "metadata": {},
   "source": [
    "### Day 2 Project: Tip Calculator"
   ]
  },
  {
   "cell_type": "code",
   "execution_count": 11,
   "id": "4127adb2",
   "metadata": {},
   "outputs": [
    {
     "name": "stdout",
     "output_type": "stream",
     "text": [
      "Welcome to the tip calculator\n",
      "What was the total bill? £100\n",
      "What percentage tip would you like to give? 10\n",
      "How many people to split the bill? 5\n",
      "Each person should pay: £22.00\n"
     ]
    }
   ],
   "source": [
    "#If the bill was $150.00, split between 5 people, with 12% tip. \n",
    "\n",
    "#Each person should pay (150.00 / 5) * 1.12 = 33.6\n",
    "#Format the result to 2 decimal places = 33.60\n",
    "\n",
    "#Tip: There are 2 ways to round a number. You might have to do some Googling to solve this.💪\n",
    "\n",
    "#Write your code below this line 👇\n",
    "\n",
    "print(\"Welcome to the tip calculator\")\n",
    "total_bill = input(\"What was the total bill? £\")\n",
    "tip_pc = input(\"What percentage tip would you like to give? \")\n",
    "num_people = input(\"How many people to split the bill? \")\n",
    "\n",
    "bill_inc_tip = float(total_bill) * (((float(tip_pc))/100)+1)\n",
    "bill_per_pers = bill_inc_tip / int(num_people)\n",
    "\n",
    "#bill_per_pers = \"{:.2f}\".format(bill_per_pers)\n",
    "#print(\"Each person should pay: £\" + bill_per_pers)\n",
    "\n",
    "f\"Each person should pay: £{bill_per_pers:.2f}\""
   ]
  },
  {
   "cell_type": "markdown",
   "id": "c1962699",
   "metadata": {},
   "source": [
    "#### Lessons Learned\n",
    "\n",
    "`:.2f` used within the curly brackets, after the variable, to format the number string to always contain 2 decimal places, even if there are zeros. Can change the number for any number of decimal places.\n",
    "\n",
    "If not using f-strings, you can just format the string before you print it, e.g:\n",
    "\n",
    "```python\n",
    "example_string = \"{:.2f}\".format(example_string)\n",
    "```"
   ]
  },
  {
   "cell_type": "code",
   "execution_count": null,
   "id": "61b3d1ce",
   "metadata": {},
   "outputs": [],
   "source": []
  }
 ],
 "metadata": {
  "kernelspec": {
   "display_name": "Python 3 (ipykernel)",
   "language": "python",
   "name": "python3"
  },
  "language_info": {
   "codemirror_mode": {
    "name": "ipython",
    "version": 3
   },
   "file_extension": ".py",
   "mimetype": "text/x-python",
   "name": "python",
   "nbconvert_exporter": "python",
   "pygments_lexer": "ipython3",
   "version": "3.9.7"
  }
 },
 "nbformat": 4,
 "nbformat_minor": 5
}
