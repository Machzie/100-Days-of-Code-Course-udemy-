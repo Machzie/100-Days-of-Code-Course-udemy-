{
 "cells": [
  {
   "cell_type": "markdown",
   "id": "ef0d45d2",
   "metadata": {},
   "source": [
    "# Day 9 Project - The Secret Auction Program"
   ]
  },
  {
   "cell_type": "code",
   "execution_count": null,
   "id": "da3323ca",
   "metadata": {},
   "outputs": [],
   "source": [
    "from IPython.display import clear_output\n",
    "\n",
    "print(\"Welcome to the secret auction program.\")\n",
    "\n",
    "auction_dict = {}\n",
    "auction_in_progress = True\n",
    "\n",
    "while auction_in_progress:\n",
    "    name = input(\"What is your name?: \")\n",
    "    bid = int(input(\"What is your bid?: £\"))\n",
    "    auction_dict[name] = bid\n",
    "    repeat = input(\"Are there any other bidders? 'yes' or 'no': \")\n",
    "    clear_output()\n",
    "    if repeat == 'no':\n",
    "        auction_in_progress = False\n",
    "\n",
    "max_bid = 0\n",
    "for bidder in auction_dict:\n",
    "    if auction_dict[bidder] > max_bid:\n",
    "        max_bid = auction_dict[bidder]\n",
    "        max_bidder = bidder\n",
    "\n",
    "print(f\"The person with the max bid is {max_bidder} with £{max_bid}\")"
   ]
  },
  {
   "cell_type": "code",
   "execution_count": null,
   "id": "011e11f6",
   "metadata": {},
   "outputs": [],
   "source": []
  }
 ],
 "metadata": {
  "kernelspec": {
   "display_name": "Python 3 (ipykernel)",
   "language": "python",
   "name": "python3"
  },
  "language_info": {
   "codemirror_mode": {
    "name": "ipython",
    "version": 3
   },
   "file_extension": ".py",
   "mimetype": "text/x-python",
   "name": "python",
   "nbconvert_exporter": "python",
   "pygments_lexer": "ipython3",
   "version": "3.9.7"
  }
 },
 "nbformat": 4,
 "nbformat_minor": 5
}
