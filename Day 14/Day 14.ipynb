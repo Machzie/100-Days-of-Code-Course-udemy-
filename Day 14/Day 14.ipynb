{
 "cells": [
  {
   "cell_type": "markdown",
   "id": "e8da6b51",
   "metadata": {},
   "source": [
    "# Day 14 Project - Higher or Lower Game"
   ]
  },
  {
   "cell_type": "code",
   "execution_count": null,
   "id": "53ddd514",
   "metadata": {},
   "outputs": [],
   "source": [
    "import game_data\n",
    "import random\n",
    "import importlib\n",
    "from IPython.display import clear_output\n",
    "\n",
    "importlib.reload(game_data)\n",
    "\n",
    "def generate_random_account():\n",
    "    \"\"\"Generates a random number to access the accounts data dictionary, and returns the chosen entry.\n",
    "    Chosen entries are removed from the dictionary so they can't be chosen again.\"\"\"\n",
    "    rand_index = random.randint(0,len(game_data.data)-1)\n",
    "    account = game_data.data[rand_index]\n",
    "    game_data.data.pop(rand_index)\n",
    "    return account\n",
    "\n",
    "acc_A = generate_random_account()\n",
    "acc_B = generate_random_account()\n",
    "\n",
    "is_correct = True\n",
    "score = 0\n",
    "\n",
    "while is_correct:\n",
    "    #print(len(game_data.data)) \n",
    "    clear_output()\n",
    "    if score > 0:\n",
    "        print(f\"Correct! Current score: {score}\\n\")\n",
    "    print(f\"Account A: {acc_A['name']}, a {acc_A['description']} from {acc_A['country']}\")\n",
    "    print(f\"Account B: {acc_B['name']}, a {acc_B['description']} from {acc_B['country']}\")\n",
    "    user_choice = input(\"Who has more followers? A or B \").upper()\n",
    "    if user_choice == 'A' and acc_A['follower_count'] > acc_B['follower_count']:\n",
    "        acc_B = generate_random_account()\n",
    "    elif user_choice == 'B' and acc_B['follower_count'] > acc_A['follower_count']:\n",
    "        acc_A = acc_B\n",
    "        acc_B = generate_random_account()\n",
    "    else:\n",
    "        print(f\"Incorrect. You scored {score}. Game over.\")\n",
    "        is_correct = False\n",
    "    score += 1\n"
   ]
  },
  {
   "cell_type": "markdown",
   "id": "0375c9fc",
   "metadata": {},
   "source": [
    "### Lessons Learned\n",
    "\n",
    "Can reimport a module using the `importlib.reload()` function. Need to import `importlib`."
   ]
  },
  {
   "cell_type": "code",
   "execution_count": null,
   "id": "64472763",
   "metadata": {},
   "outputs": [],
   "source": []
  }
 ],
 "metadata": {
  "kernelspec": {
   "display_name": "Python 3 (ipykernel)",
   "language": "python",
   "name": "python3"
  },
  "language_info": {
   "codemirror_mode": {
    "name": "ipython",
    "version": 3
   },
   "file_extension": ".py",
   "mimetype": "text/x-python",
   "name": "python",
   "nbconvert_exporter": "python",
   "pygments_lexer": "ipython3",
   "version": "3.9.7"
  }
 },
 "nbformat": 4,
 "nbformat_minor": 5
}
