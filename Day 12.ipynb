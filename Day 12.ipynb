{
 "cells": [
  {
   "cell_type": "markdown",
   "id": "4a0efdc7",
   "metadata": {},
   "source": [
    "# Day 12 Project - Number Guessing Game"
   ]
  },
  {
   "cell_type": "code",
   "execution_count": null,
   "id": "5d41b301",
   "metadata": {},
   "outputs": [],
   "source": [
    "import random\n",
    "\n",
    "print(\"Welcome to the Number Guessing Game!\")\n",
    "print(\"I'm thinking of a number between 1 and 100\")\n",
    "\n",
    "target = random.randint(1,101)\n",
    "difficulty = input(\"Please choose a difficulty. Type 'easy' or 'hard': \").lower()\n",
    "\n",
    "is_end = False\n",
    "\n",
    "if difficulty == \"hard\":\n",
    "    remaining_guesses = 5\n",
    "elif difficulty == \"easy\":\n",
    "    remaining_guesses = 10\n",
    "\n",
    "while remaining_guesses > 0:\n",
    "    print(f\"\\nYou have {remaining_guesses} attempts remaining to guess the number\")\n",
    "    guess = int(input(\"Make a guess: \"))\n",
    "    if guess == target:\n",
    "        print(f\"You win!\")\n",
    "        break\n",
    "    elif guess < 0 or guess > 100:\n",
    "        print(\"Guess out of range.\")\n",
    "    else:\n",
    "        remaining_guesses -= 1\n",
    "        if guess > target:\n",
    "            print(\"\\nLower\")\n",
    "        elif guess < target:\n",
    "            print(\"\\nHigher\")\n",
    "\n",
    "print(f\"The number was {target}.\")        \n",
    "print(\"Game over.\")"
   ]
  },
  {
   "cell_type": "code",
   "execution_count": null,
   "id": "7dfdd09f",
   "metadata": {},
   "outputs": [],
   "source": []
  }
 ],
 "metadata": {
  "kernelspec": {
   "display_name": "Python 3 (ipykernel)",
   "language": "python",
   "name": "python3"
  },
  "language_info": {
   "codemirror_mode": {
    "name": "ipython",
    "version": 3
   },
   "file_extension": ".py",
   "mimetype": "text/x-python",
   "name": "python",
   "nbconvert_exporter": "python",
   "pygments_lexer": "ipython3",
   "version": "3.9.7"
  }
 },
 "nbformat": 4,
 "nbformat_minor": 5
}
