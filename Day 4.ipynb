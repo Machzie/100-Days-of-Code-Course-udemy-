{
 "cells": [
  {
   "cell_type": "markdown",
   "id": "fef84389",
   "metadata": {},
   "source": [
    "# Day 4 Project: Rock, Paper, Scissors"
   ]
  },
  {
   "cell_type": "code",
   "execution_count": 13,
   "id": "198f5e15",
   "metadata": {},
   "outputs": [],
   "source": [
    "rock = '''\n",
    "    _______\n",
    "---'   ____)\n",
    "      (_____)\n",
    "      (_____)\n",
    "      (____)\n",
    "---.__(___)\n",
    "'''\n",
    "\n",
    "paper = '''\n",
    "    _______\n",
    "---'   ____)____\n",
    "          ______)\n",
    "          _______)\n",
    "         _______)\n",
    "---.__________)\n",
    "'''\n",
    "\n",
    "scissors = '''\n",
    "    _______\n",
    "---'   ____)____\n",
    "          ______)\n",
    "       __________)\n",
    "      (____)\n",
    "---.__(___)\n",
    "'''"
   ]
  },
  {
   "cell_type": "code",
   "execution_count": null,
   "id": "f69c6b86",
   "metadata": {},
   "outputs": [],
   "source": [
    "import random\n",
    "\n",
    "count = 0\n",
    "user_choice = 0\n",
    "cpu_choice  = 0\n",
    "\n",
    "images = [rock,paper,scissors]\n",
    "\n",
    "while user_choice == cpu_choice:\n",
    "    if count != 0:\n",
    "        print(\"You chose: \\n\")\n",
    "        print(images[user_choice])\n",
    "\n",
    "        print(\"Computer chose: \\n\")\n",
    "        print(images[cpu_choice])\n",
    "        \n",
    "        print(\"Draw. Pick again!\")\n",
    "    user_choice = int(input(\"What do you choose? Type 0 for Rock, 1 for Paper, 2 for Scissors \"))\n",
    "    cpu_choice = random.randint(0,2)\n",
    "    count += 1\n",
    "    \n",
    "print(\"\\nYou chose: \")\n",
    "print(images[user_choice])\n",
    "\n",
    "print(\"Computer chose: \")\n",
    "print(images[cpu_choice])\n",
    "\n",
    "# 0 beats 2, 1 beats 0, 2 beats 1\n",
    "if (user_choice == 0 and cpu_choice == 2) or (user_choice == 1 and cpu_choice == 0) or (user_choice == 2 and cpu_choice == 1):\n",
    "    print(\"You win!\")\n",
    "else:\n",
    "    print(\"You lose!\")\n",
    "    "
   ]
  },
  {
   "cell_type": "code",
   "execution_count": null,
   "id": "63a4faeb",
   "metadata": {},
   "outputs": [],
   "source": []
  }
 ],
 "metadata": {
  "kernelspec": {
   "display_name": "Python 3 (ipykernel)",
   "language": "python",
   "name": "python3"
  },
  "language_info": {
   "codemirror_mode": {
    "name": "ipython",
    "version": 3
   },
   "file_extension": ".py",
   "mimetype": "text/x-python",
   "name": "python",
   "nbconvert_exporter": "python",
   "pygments_lexer": "ipython3",
   "version": "3.9.7"
  }
 },
 "nbformat": 4,
 "nbformat_minor": 5
}
