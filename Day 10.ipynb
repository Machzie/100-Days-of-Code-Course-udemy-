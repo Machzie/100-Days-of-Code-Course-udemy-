{
 "cells": [
  {
   "cell_type": "markdown",
   "id": "d7a3ace8",
   "metadata": {},
   "source": [
    "# Day 10 Project - Calculator App"
   ]
  },
  {
   "cell_type": "code",
   "execution_count": null,
   "id": "7f3c1bff",
   "metadata": {},
   "outputs": [],
   "source": [
    "from IPython.display import clear_output\n",
    "\n",
    "print(\"\"\"\n",
    " _____________________\n",
    "|  _________________  |\n",
    "| | Pythonista   0. | |  .----------------.  .----------------.  .----------------.  .----------------. \n",
    "| |_________________| | | .--------------. || .--------------. || .--------------. || .--------------. |\n",
    "|  ___ ___ ___   ___  | | |     ______   | || |      __      | || |   _____      | || |     ______   | |\n",
    "| | 7 | 8 | 9 | | + | | | |   .' ___  |  | || |     /  \\     | || |  |_   _|     | || |   .' ___  |  | |\n",
    "| |___|___|___| |___| | | |  / .'   \\_|  | || |    / /\\ \\    | || |    | |       | || |  / .'   \\_|  | |\n",
    "| | 4 | 5 | 6 | | - | | | |  | |         | || |   / ____ \\   | || |    | |   _   | || |  | |         | |\n",
    "| |___|___|___| |___| | | |  \\ `.___.'\\  | || | _/ /    \\ \\_ | || |   _| |__/ |  | || |  \\ `.___.'\\  | |\n",
    "| | 1 | 2 | 3 | | x | | | |   `._____.'  | || ||____|  |____|| || |  |________|  | || |   `._____.'  | |\n",
    "| |___|___|___| |___| | | |              | || |              | || |              | || |              | |\n",
    "| | . | 0 | = | | / | | | '--------------' || '--------------' || '--------------' || '--------------' |\n",
    "| |___|___|___| |___| |  '----------------'  '----------------'  '----------------'  '----------------' \n",
    "|_____________________|\n",
    "\"\"\")\n",
    "\n",
    "\n",
    "def add(n1, n2):\n",
    "    return n1 + n2\n",
    "\n",
    "def subtract(n1, n2):\n",
    "    return n1 - n2\n",
    "\n",
    "def multiply(n1, n2):\n",
    "    return n1 * n2\n",
    "\n",
    "def divide(n1, n2):\n",
    "    return n1 / n2\n",
    "\n",
    "operator_dict = {\n",
    "\"+\":add,\n",
    "\"-\":subtract,\n",
    "\"*\":multiply,\n",
    "\"/\":divide,\n",
    "}\n",
    "\n",
    "#to allow for recursion, create a new function\n",
    "def calculator():\n",
    "    num1 = float(input(\"What's the first number? \"))\n",
    "    for operator in operator_dict:\n",
    "        print(operator)\n",
    "    user_operator = input(\"Which operator would you like to use from the line above? \")\n",
    "    num2 = float(input(\"What's the second number? \"))\n",
    "\n",
    "    #operator_dict becomes the value of whichever key the user chose\n",
    "    answer = operator_dict[user_operator](num1, num2)\n",
    "\n",
    "    print(f\"{num1} {user_operator} {num2} = {answer}\")\n",
    "\n",
    "    cont_calc = True\n",
    "    while cont_calc:\n",
    "        user_to_cont = input(f\"Type 'y' to continue calculating with {answer}, or type 'n' to start a new calculation: \")\n",
    "        if user_to_cont == 'y':\n",
    "            for operator in operator_dict:\n",
    "                print(operator)\n",
    "            user_operator = input(\"Pick another operator \")\n",
    "            numx = float(input(\"What's the next number? \"))\n",
    "\n",
    "            new_answer = operator_dict[user_operator](answer, numx)\n",
    "            print(f\"{answer} {user_operator} {numx} = {new_answer}\")\n",
    "            answer = new_answer\n",
    "        else:\n",
    "            clear_output()\n",
    "            calculator()\n",
    "            \n",
    "calculator()"
   ]
  },
  {
   "cell_type": "code",
   "execution_count": null,
   "id": "aa838765",
   "metadata": {},
   "outputs": [],
   "source": []
  }
 ],
 "metadata": {
  "kernelspec": {
   "display_name": "Python 3 (ipykernel)",
   "language": "python",
   "name": "python3"
  },
  "language_info": {
   "codemirror_mode": {
    "name": "ipython",
    "version": 3
   },
   "file_extension": ".py",
   "mimetype": "text/x-python",
   "name": "python",
   "nbconvert_exporter": "python",
   "pygments_lexer": "ipython3",
   "version": "3.9.7"
  }
 },
 "nbformat": 4,
 "nbformat_minor": 5
}
