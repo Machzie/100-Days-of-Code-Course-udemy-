{
 "cells": [
  {
   "cell_type": "markdown",
   "id": "a5faac14",
   "metadata": {},
   "source": [
    "### Day 1 Project: Band Name Generator"
   ]
  },
  {
   "cell_type": "code",
   "execution_count": 1,
   "id": "4da45b65",
   "metadata": {},
   "outputs": [
    {
     "name": "stdout",
     "output_type": "stream",
     "text": [
      "Welcome to the Band Name Generator\n",
      "What's the name of the City you grew up in?\n",
      "Bristol\n",
      "What's your pet's name?\n",
      "Rabbit\n",
      "Your band name could be Bristol Rabbit\n"
     ]
    }
   ],
   "source": [
    "#1. Create a greeting for your program.\n",
    "print(\"Welcome to the Band Name Generator\")\n",
    "#2. Ask the user for the city that they grew up in.\n",
    "city = input(\"What's the name of the City you grew up in?\\n\")\n",
    "#3. Ask the user for the name of a pet.\n",
    "pet = input(\"What's your pet's name?\\n\")\n",
    "#4. Combine the name of their city and pet and show them their band name.\n",
    "print(\"Your band name could be\",city,pet)"
   ]
  },
  {
   "cell_type": "code",
   "execution_count": null,
   "id": "e5488f9d",
   "metadata": {},
   "outputs": [],
   "source": []
  }
 ],
 "metadata": {
  "kernelspec": {
   "display_name": "Python 3 (ipykernel)",
   "language": "python",
   "name": "python3"
  },
  "language_info": {
   "codemirror_mode": {
    "name": "ipython",
    "version": 3
   },
   "file_extension": ".py",
   "mimetype": "text/x-python",
   "name": "python",
   "nbconvert_exporter": "python",
   "pygments_lexer": "ipython3",
   "version": "3.9.7"
  }
 },
 "nbformat": 4,
 "nbformat_minor": 5
}
